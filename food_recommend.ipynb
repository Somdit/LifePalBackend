{
 "cells": [
  {
   "attachments": {},
   "cell_type": "markdown",
   "metadata": {},
   "source": [
    "</title> Food Recommendation <title>"
   ]
  },
  {
   "cell_type": "code",
   "execution_count": 283,
   "metadata": {},
   "outputs": [],
   "source": [
    "import json\n",
    "import sys\n",
    "import pandas as pd\n",
    "import numpy as np\n",
    "from IPython.display import display\n",
    "from itertools import combinations\n",
    "from sklearn.model_selection import train_test_split\n",
    "from sklearn.metrics import accuracy_score\n",
    "from sklearn.neural_network import MLPClassifier\n",
    "from sklearn.neighbors import KNeighborsClassifier, KNeighborsRegressor\n",
    "from sklearn.preprocessing import LabelEncoder\n",
    "from sklearn.inspection import DecisionBoundaryDisplay\n",
    "from sklearn.metrics.pairwise import euclidean_distances\n",
    "\n",
    "from scipy.stats import skewnorm\n",
    "\n",
    "import matplotlib.pyplot as plt"
   ]
  },
  {
   "attachments": {},
   "cell_type": "markdown",
   "metadata": {},
   "source": [
    "Extract required data from JSON"
   ]
  },
  {
   "cell_type": "code",
   "execution_count": 284,
   "metadata": {},
   "outputs": [
    {
     "ename": "TypeError",
     "evalue": "list indices must be integers or slices, not str",
     "output_type": "error",
     "traceback": [
      "\u001b[1;31m---------------------------------------------------------------------------\u001b[0m",
      "\u001b[1;31mTypeError\u001b[0m                                 Traceback (most recent call last)",
      "Cell \u001b[1;32mIn[284], line 6\u001b[0m\n\u001b[0;32m      4\u001b[0m \u001b[39m#convert JSON data to DataFrame\u001b[39;00m\n\u001b[0;32m      5\u001b[0m food_list \u001b[39m=\u001b[39m []\n\u001b[1;32m----> 6\u001b[0m \u001b[39mfor\u001b[39;00m entry \u001b[39min\u001b[39;00m data[\u001b[39m'\u001b[39;49m\u001b[39mall\u001b[39;49m\u001b[39m'\u001b[39;49m]:\n\u001b[0;32m      7\u001b[0m     \u001b[39mfor\u001b[39;00m menu_item \u001b[39min\u001b[39;00m entry[\u001b[39m'\u001b[39m\u001b[39mmenu\u001b[39m\u001b[39m'\u001b[39m]:\n\u001b[0;32m      8\u001b[0m         \u001b[39mfor\u001b[39;00m food_item \u001b[39min\u001b[39;00m menu_item[\u001b[39m'\u001b[39m\u001b[39mitems\u001b[39m\u001b[39m'\u001b[39m]:\n",
      "\u001b[1;31mTypeError\u001b[0m: list indices must be integers or slices, not str"
     ]
    }
   ],
   "source": [
    "with open('food_datasets/food_samples.json', 'r') as file:\n",
    "    data = json.load(file)\n",
    "\n",
    "#convert JSON data to DataFrame\n",
    "food_list = []\n",
    "for entry in data['all']:\n",
    "    for menu_item in entry['menu']:\n",
    "        for food_item in menu_item['items']:\n",
    "            if 'calories' in food_item['nutrition'] and food_item['nutrition']['calories'] != None:\n",
    "                food = {\n",
    "                    'type': menu_item['category'],\n",
    "                    'name': food_item['name'],\n",
    "                    'calories': float(food_item['nutrition']['calories']),\n",
    "                }\n",
    "                food_list.append(food)\n",
    "\n",
    "# food_list = []\n",
    "# for category in data:\n",
    "#     for food_item in category['items']:\n",
    "#         if 'calories' in food_item['nutrition'] and food_item['nutrition']['calories'] != None:\n",
    "#             food = {\n",
    "#                 'type': category['category'],\n",
    "#                 'name': food_item['name'],\n",
    "#                 'calories': float(food_item['nutrition']['calories']),\n",
    "#             }\n",
    "#             food_list.append(food)\n",
    "\n",
    "\n",
    "food_df = pd.DataFrame(food_list)"
   ]
  },
  {
   "attachments": {},
   "cell_type": "markdown",
   "metadata": {},
   "source": [
    "Display the Food DataFrame"
   ]
  },
  {
   "cell_type": "code",
   "execution_count": null,
   "metadata": {},
   "outputs": [
    {
     "data": {
      "text/html": [
       "<div>\n",
       "<style scoped>\n",
       "    .dataframe tbody tr th:only-of-type {\n",
       "        vertical-align: middle;\n",
       "    }\n",
       "\n",
       "    .dataframe tbody tr th {\n",
       "        vertical-align: top;\n",
       "    }\n",
       "\n",
       "    .dataframe thead th {\n",
       "        text-align: right;\n",
       "    }\n",
       "</style>\n",
       "<table border=\"1\" class=\"dataframe\">\n",
       "  <thead>\n",
       "    <tr style=\"text-align: right;\">\n",
       "      <th></th>\n",
       "      <th>type</th>\n",
       "      <th>name</th>\n",
       "      <th>calories</th>\n",
       "    </tr>\n",
       "  </thead>\n",
       "  <tbody>\n",
       "    <tr>\n",
       "      <th>0</th>\n",
       "      <td>Breads</td>\n",
       "      <td>Donut Bites</td>\n",
       "      <td>210.0</td>\n",
       "    </tr>\n",
       "    <tr>\n",
       "      <th>1</th>\n",
       "      <td>Breads</td>\n",
       "      <td>Whole Grain Blueberry Mini Muffin</td>\n",
       "      <td>80.0</td>\n",
       "    </tr>\n",
       "    <tr>\n",
       "      <th>2</th>\n",
       "      <td>Desserts</td>\n",
       "      <td>Cherry Crumb Cupcake</td>\n",
       "      <td>150.0</td>\n",
       "    </tr>\n",
       "  </tbody>\n",
       "</table>\n",
       "</div>"
      ],
      "text/plain": [
       "       type                               name  calories\n",
       "0    Breads                        Donut Bites     210.0\n",
       "1    Breads  Whole Grain Blueberry Mini Muffin      80.0\n",
       "2  Desserts               Cherry Crumb Cupcake     150.0"
      ]
     },
     "metadata": {},
     "output_type": "display_data"
    }
   ],
   "source": [
    "display(food_df)"
   ]
  },
  {
   "cell_type": "code",
   "execution_count": null,
   "metadata": {},
   "outputs": [],
   "source": [
    "le = LabelEncoder()\n",
    "food_df['type'] = le.fit_transform(food_df['type'])"
   ]
  },
  {
   "cell_type": "code",
   "execution_count": null,
   "metadata": {},
   "outputs": [
    {
     "data": {
      "text/html": [
       "<div>\n",
       "<style scoped>\n",
       "    .dataframe tbody tr th:only-of-type {\n",
       "        vertical-align: middle;\n",
       "    }\n",
       "\n",
       "    .dataframe tbody tr th {\n",
       "        vertical-align: top;\n",
       "    }\n",
       "\n",
       "    .dataframe thead th {\n",
       "        text-align: right;\n",
       "    }\n",
       "</style>\n",
       "<table border=\"1\" class=\"dataframe\">\n",
       "  <thead>\n",
       "    <tr style=\"text-align: right;\">\n",
       "      <th></th>\n",
       "      <th>type</th>\n",
       "      <th>name</th>\n",
       "      <th>calories</th>\n",
       "    </tr>\n",
       "  </thead>\n",
       "  <tbody>\n",
       "    <tr>\n",
       "      <th>0</th>\n",
       "      <td>0</td>\n",
       "      <td>Donut Bites</td>\n",
       "      <td>210.0</td>\n",
       "    </tr>\n",
       "    <tr>\n",
       "      <th>1</th>\n",
       "      <td>0</td>\n",
       "      <td>Whole Grain Blueberry Mini Muffin</td>\n",
       "      <td>80.0</td>\n",
       "    </tr>\n",
       "    <tr>\n",
       "      <th>2</th>\n",
       "      <td>1</td>\n",
       "      <td>Cherry Crumb Cupcake</td>\n",
       "      <td>150.0</td>\n",
       "    </tr>\n",
       "  </tbody>\n",
       "</table>\n",
       "</div>"
      ],
      "text/plain": [
       "   type                               name  calories\n",
       "0     0                        Donut Bites     210.0\n",
       "1     0  Whole Grain Blueberry Mini Muffin      80.0\n",
       "2     1               Cherry Crumb Cupcake     150.0"
      ]
     },
     "metadata": {},
     "output_type": "display_data"
    }
   ],
   "source": [
    "display(food_df)"
   ]
  },
  {
   "attachments": {},
   "cell_type": "markdown",
   "metadata": {},
   "source": [
    "Since we are recommending based on the user's daily calories intake. Deploying distance method is a good way for predicting the food. In this case, we will use Lp norm where p=2"
   ]
  },
  {
   "cell_type": "code",
   "execution_count": null,
   "metadata": {},
   "outputs": [],
   "source": [
    "def find_foods(input_calories, c=1, debug=False):\n",
    "    \"\"\"\n",
    "    Find k top food that have closest calories to the input calories\n",
    "    : k - number of food in ranked list\n",
    "    : c - size of combinations of food items\n",
    "    \"\"\"\n",
    "    # random split of input calories to get different combinations of food\n",
    "    def skewed_random(a, b, skewness=2, size=None):\n",
    "        # usually one food of a meal should have larger weight (e.g. primary dish)\n",
    "        # therefore we need to skew the splits\n",
    "        loc = (a + b) / 2\n",
    "        scale = (b - a) / 6\n",
    "        a_param = skewness\n",
    "        x = skewnorm.rvs(a_param, loc, scale, size)\n",
    "        return x\n",
    "\n",
    "    # generate c random calories splits (right-skewed)\n",
    "    cal_seg = []\n",
    "    total_cal = input_calories\n",
    "    for _ in range(c):\n",
    "        cal = skewed_random(0, total_cal, skewness=1.2)\n",
    "        cal_seg.append(cal)\n",
    "        total_cal -= cal\n",
    "\n",
    "    if debug == True:\n",
    "        print(cal_seg)\n",
    "\n",
    "    # find c foods closest to the c splits\n",
    "    cdist = [(0, None)] * c\n",
    "    for idx, cal in enumerate(cal_seg):\n",
    "        min_cal = sys.float_info.max\n",
    "        for _, row in food_df[['name', 'calories']].iterrows():\n",
    "            dist = np.abs(cal - row.values[1])\n",
    "            \n",
    "            if dist < min_cal:\n",
    "                cdist[idx] = (dist, row.values[0])\n",
    "                min_cal = dist\n",
    "\n",
    "    return cdist"
   ]
  },
  {
   "attachments": {},
   "cell_type": "markdown",
   "metadata": {},
   "source": [
    "Let's say we want to recommend three foods for the user's lunch"
   ]
  },
  {
   "cell_type": "code",
   "execution_count": null,
   "metadata": {},
   "outputs": [
    {
     "name": "stdout",
     "output_type": "stream",
     "text": [
      "[459.48895160274026, 193.13627494602247, 122.29210758866479]\n",
      "\u001b[1mFood Name\u001b[0m: Donut Bites \t \u001b[1mDist\u001b[0m: 249.48895160274026\n",
      "\u001b[1mFood Name\u001b[0m: Donut Bites \t \u001b[1mDist\u001b[0m: 16.863725053977532\n",
      "\u001b[1mFood Name\u001b[0m: Cherry Crumb Cupcake \t \u001b[1mDist\u001b[0m: 27.70789241133521\n"
     ]
    }
   ],
   "source": [
    "lunch_cal = 2200 * 0.4\n",
    "\n",
    "foods = find_foods(input_calories=lunch_cal, c=3, debug=True)\n",
    "\n",
    "for dist, food_name in foods:\n",
    "    print(f\"\\033[1mFood Name\\033[0m: {food_name} \\t \\033[1mDist\\033[0m: {dist}\")\n"
   ]
  }
 ],
 "metadata": {
  "kernelspec": {
   "display_name": "Python 3",
   "language": "python",
   "name": "python3"
  },
  "language_info": {
   "codemirror_mode": {
    "name": "ipython",
    "version": 3
   },
   "file_extension": ".py",
   "mimetype": "text/x-python",
   "name": "python",
   "nbconvert_exporter": "python",
   "pygments_lexer": "ipython3",
   "version": "3.10.8"
  },
  "orig_nbformat": 4
 },
 "nbformat": 4,
 "nbformat_minor": 2
}
